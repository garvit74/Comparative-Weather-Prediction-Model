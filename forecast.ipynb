{
  "cells": [
    {
      "attachments": {},
      "cell_type": "markdown",
      "metadata": {
        "id": "OLwA-XUbaRIw"
      },
      "source": [
        "# Importing Packages"
      ]
    },
    {
      "cell_type": "code",
      "execution_count": null,
      "metadata": {
        "id": "LiBvwD-vtkFe"
      },
      "outputs": [],
      "source": [
        "import warnings\n",
        "warnings.filterwarnings('ignore')\n",
        "import numpy as np\n",
        "import pandas as pd\n",
        "import matplotlib.pyplot as plt\n",
        "import seaborn as sns\n",
        "from sklearn.preprocessing import MinMaxScaler\n",
        "\n",
        "import sklearn\n",
        "from sklearn.model_selection import train_test_split\n",
        "from sklearn.metrics import accuracy_score\n",
        "from sklearn.linear_model import LinearRegression\n",
        "from sklearn import preprocessing\n",
        "\n",
        "%matplotlib inline"
      ]
    },
    {
      "cell_type": "markdown",
      "metadata": {
        "id": "_P3UIxtga5ZZ"
      },
      "source": [
        "# Reading CSV file as weather_df and making date_time column as index of dataframe"
      ]
    },
    {
      "cell_type": "code",
      "execution_count": null,
      "metadata": {
        "colab": {
          "base_uri": "https://localhost:8080/",
          "height": 418
        },
        "id": "IrgauQnRtsaU",
        "outputId": "0b2f3eab-866d-47d1-c953-44693cda1039"
      },
      "outputs": [],
      "source": [
        "# This code reads a CSV file named 'kanpur.csv' into a pandas DataFrame called 'weather_df'.\n",
        "# The column 'date_time' in the CSV file is parsed as a date and set as the index column of the DataFrame.\n",
        "weather_df = pd.read_csv('delhi.csv', parse_dates=['date_time'], index_col='date_time')\n",
        "\n",
        "# This code displays the first 5 rows of the DataFrame to verify that the CSV file was properly loaded.\n",
        "weather_df.head(5)"
      ]
    },
    {
      "cell_type": "markdown",
      "metadata": {
        "id": "G2aBzDI5bfg4"
      },
      "source": [
        "# Checking columns in our dataframe"
      ]
    },
    {
      "cell_type": "code",
      "execution_count": null,
      "metadata": {
        "colab": {
          "base_uri": "https://localhost:8080/"
        },
        "id": "2JSTSrKuv4AN",
        "outputId": "11567d9e-c53f-4a1c-ae14-f05a1749ea4f"
      },
      "outputs": [],
      "source": [
        "# This code retrieves the column names of a pandas DataFrame called 'weather_df'.\n",
        "weather_df.columns"
      ]
    },
    {
      "cell_type": "markdown",
      "metadata": {
        "id": "j1PU-N_dbmka"
      },
      "source": [
        "## Now shape"
      ]
    },
    {
      "cell_type": "code",
      "execution_count": null,
      "metadata": {
        "colab": {
          "base_uri": "https://localhost:8080/"
        },
        "id": "ghoNo7OwwAr1",
        "outputId": "23fd2c29-edb1-4f11-ed37-c9a83722d5f4"
      },
      "outputs": [],
      "source": [
        "#This code retrieves the dimensions of the pandas DataFrame weather_df. The output of this code is a tuple with two elements.\n",
        "#The first element is the number of rows in the DataFrame and the second element is the number of columns in the DataFrame.\n",
        "weather_df.shape"
      ]
    },
    {
      "cell_type": "code",
      "execution_count": null,
      "metadata": {
        "colab": {
          "base_uri": "https://localhost:8080/",
          "height": 314
        },
        "id": "PnxYGdbIwJxq",
        "outputId": "afd9c791-2735-4f25-d989-5f708a18d811"
      },
      "outputs": [],
      "source": [
        "# This code generates descriptive statistics of a pandas DataFrame called 'weather_df'.\n",
        "weather_df.describe()\n",
        "\n",
        "# This code generates descriptive statistics of the pandas DataFrame weather_df. The describe() method calculates various summary statistics, including count, mean, standard deviation, minimum, maximum, and quartile values for each numerical column in the DataFrame. This is useful for quickly getting a sense of the range and distribution of values in the DataFrame."
      ]
    },
    {
      "cell_type": "markdown",
      "metadata": {
        "id": "r47ADSH6buXm"
      },
      "source": [
        "# Checking is there any null values in dataset"
      ]
    },
    {
      "cell_type": "code",
      "execution_count": null,
      "metadata": {
        "colab": {
          "base_uri": "https://localhost:8080/"
        },
        "id": "BTVX7wZGwY5Y",
        "outputId": "972b09ad-461b-4f14-f077-d31d66979c73"
      },
      "outputs": [],
      "source": [
        "weather_df.isnull().any()"
      ]
    },
    {
      "attachments": {},
      "cell_type": "markdown",
      "metadata": {},
      "source": [
        "# Data Visualization"
      ]
    },
    {
      "cell_type": "code",
      "execution_count": null,
      "metadata": {},
      "outputs": [],
      "source": [
        "fig, axes=plt.subplots(figsize=(8, 6))\n",
        "sns.heatmap(weather_df.corr(), ax=axes)"
      ]
    },
    {
      "cell_type": "markdown",
      "metadata": {
        "id": "UD0ZD9t7xp7E"
      },
      "source": [
        "### Now lets separate the feature (i.e. temperature) to be predicted from the rest of the featured. weather_x stores the rest of the dataset while weather_y has temperature column."
      ]
    },
    {
      "cell_type": "code",
      "execution_count": null,
      "metadata": {
        "colab": {
          "base_uri": "https://localhost:8080/",
          "height": 232
        },
        "id": "6W6_NKT9wjsA",
        "outputId": "34686c24-72ec-4d33-dced-477d4451defc"
      },
      "outputs": [],
      "source": [
        "# This code selects a subset of numerical columns from a pandas DataFrame called 'weather_df' and creates a new DataFrame called 'weather_df_num'.\n",
        "# The 'loc' method is used to select all rows and only the columns 'maxtempC', 'mintempC', 'cloudcover', 'humidity', 'tempC', 'sunHour', 'HeatIndexC', 'precipMM', 'pressure', and 'windspeedKmph'.\n",
        "weather_df_num=weather_df.loc[:,['maxtempC','mintempC','cloudcover','humidity','tempC', 'sunHour','HeatIndexC', 'precipMM', 'pressure','windspeedKmph']]\n",
        "\n",
        "# This code displays the first 5 rows of the new DataFrame 'weather_df_num' to verify that only the selected columns were included.\n",
        "weather_df_num.head()"
      ]
    },
    {
      "cell_type": "markdown",
      "metadata": {
        "id": "toMYuEK1cbyp"
      },
      "source": [
        "# Shape of new dataframe"
      ]
    },
    {
      "cell_type": "code",
      "execution_count": null,
      "metadata": {
        "colab": {
          "base_uri": "https://localhost:8080/"
        },
        "id": "Y-rP7g_8K-pP",
        "outputId": "4c064614-78d5-4d32-853c-82fd79ad6632"
      },
      "outputs": [],
      "source": [
        "weather_df_num.shape"
      ]
    },
    {
      "cell_type": "markdown",
      "metadata": {
        "id": "i--M_1_pchGz"
      },
      "source": [
        "# Columns in new dataframe"
      ]
    },
    {
      "cell_type": "code",
      "execution_count": null,
      "metadata": {
        "colab": {
          "base_uri": "https://localhost:8080/"
        },
        "id": "hYocntUDLBvk",
        "outputId": "18b8888a-aa2e-4771-8a3c-75d132612e63"
      },
      "outputs": [],
      "source": [
        "weather_df_num.columns"
      ]
    },
    {
      "cell_type": "markdown",
      "metadata": {},
      "source": [
        "## Ploting all the column values"
      ]
    },
    {
      "cell_type": "code",
      "execution_count": null,
      "metadata": {},
      "outputs": [],
      "source": [
        "# This code plots a set of subplots, each representing a numerical column in the weather_df_num dataframe\n",
        "# The subplots are displayed in a grid format, with the number of rows and columns determined automatically based on the number of columns in the dataframe\n",
        "# The size of the plot is set to 25 inches by 20 inches using the figsize parameter\n",
        "\n",
        "# plot the columns of the weather_df_num DataFrame\n",
        "weather_df_num.plot(subplots=True, figsize=(25,20))\n",
        "\n",
        "# set the title and axis labels for each subplot\n",
        "plt.suptitle('Weather Data', fontsize=20)\n",
        "plt.xlabel('Date')\n",
        "plt.subplots_adjust(hspace=0.5, wspace=0.3)\n",
        "for ax, col in zip(plt.gcf().axes, weather_df_num.columns):\n",
        "    ax.set_title(col)\n",
        "    ax.set_ylabel(col)\n",
        "    \n",
        "# show the plot\n",
        "plt.show()\n"
      ]
    },
    {
      "cell_type": "markdown",
      "metadata": {},
      "source": [
        "# Ploting all the column values for 1 year"
      ]
    },
    {
      "cell_type": "code",
      "execution_count": null,
      "metadata": {},
      "outputs": [],
      "source": [
        "# This code filters the weather_df_num dataframe to include only the data from the year 2019 to 2020, using the slicing operator ':' to select a range of rows based on the index\n",
        "# The resample method is then applied to the resulting dataframe with a frequency of 'D' (daily), which converts the data to a daily frequency\n",
        "# The fillna method is then applied to forward fill any missing data in the dataframe\n",
        "# Finally, a set of subplots is created to display each numerical column in the dataframe\n",
        "# The subplots are displayed in a grid format, with the number of rows and columns determined automatically based on the number of columns in the dataframe\n",
        "# The size of the plot is set to 25 inches by 20 inches using the figsize parameter\n",
        "\n",
        "# plot the columns of the weather_df_num DataFrame for the years 2019-2020\n",
        "weather_df_num['2019':'2020'].resample('D').fillna(method='pad').plot(subplots=True, figsize=(25,20))\n",
        "\n",
        "# set the title and axis labels for each subplot\n",
        "plt.suptitle('Weather Data from 2019 to 2020', fontsize=20)\n",
        "plt.xlabel('Date')\n",
        "plt.subplots_adjust(hspace=0.5, wspace=0.3)\n",
        "for ax, col in zip(plt.gcf().axes, weather_df_num.columns):\n",
        "    ax.set_title(col)\n",
        "    ax.set_ylabel(col)\n",
        "\n",
        "# show the plot\n",
        "plt.show()\n"
      ]
    },
    {
      "cell_type": "code",
      "execution_count": null,
      "metadata": {},
      "outputs": [],
      "source": [
        "# This code creates a histogram of the numerical data in the weather_df_num dataframe\n",
        "# The 'bins' parameter is set to 10, which means that the data is divided into 10 equally spaced bins\n",
        "# The resulting histogram is displayed in a square-shaped plot with dimensions of 15 inches by 15 inches\n",
        "# This code assumes that `weather_df_num` is a Pandas dataframe containing only numerical columns. If `weather_df_num` contains non-numerical columns, this code may not work as expected.\n",
        "\n",
        "weather_df_num.hist(bins=10, figsize=(15,15))\n",
        "\n",
        "plt.suptitle('Frequency Histogram', fontsize=20)"
      ]
    },
    {
      "cell_type": "code",
      "execution_count": null,
      "metadata": {},
      "outputs": [],
      "source": [
        "# This code filters the weather_df_num dataframe to include only the data from the year 2019 to 2020, using the slicing operator ':' to select a range of rows based on the index\n",
        "# The resulting subset of the dataframe is assigned to a new variable called 'weth'\n",
        "# The head() method is then called on 'weth', which displays the first 5 rows of the subset\n",
        "\n",
        "weth = weather_df_num['2019':'2020']\n",
        "weth.head()"
      ]
    },
    {
      "cell_type": "code",
      "execution_count": null,
      "metadata": {},
      "outputs": [],
      "source": [
        "# This code creates two new variables 'weather_x' and 'weather_y' based on the weather_df_num dataframe\n",
        "# The 'pop' method is used to remove the 'tempC' column from the original dataframe and assign it to the 'weather_y' variable\n",
        "# The 'weather_x' variable is assigned the remaining columns of the original dataframe\n",
        "\n",
        "weather_y = weather_df_num.pop(\"tempC\")\n",
        "weather_x = weather_df_num\n",
        "\n",
        "# The resulting weather_x dataframe can be used as input to a machine learning algorithm, while the weather_y series can be used as the target variable to train the algorithm to predict temperature."
      ]
    },
    {
      "attachments": {},
      "cell_type": "markdown",
      "metadata": {},
      "source": [
        "### Now our dataset is prepared and it is ready to be fed to the model for training, it’s time to split the dataset into training and testing."
      ]
    },
    {
      "cell_type": "code",
      "execution_count": null,
      "metadata": {},
      "outputs": [],
      "source": [
        "# This code uses the train_test_split function from the scikit-learn library to split\n",
        "# the weather_x and weather_y datasets into training and testing sets.\n",
        "# The test_size parameter specifies the percentage of the data that should be used for testing,\n",
        "# in this case 20%.\n",
        "# The random_state parameter ensures that the data is split in a reproducible way,\n",
        "# so that the same random seed is used each time the code is run.\n",
        "train_X, test_X, train_y, test_y = train_test_split(weather_x, weather_y, test_size=0.2, random_state=4)"
      ]
    },
    {
      "cell_type": "code",
      "execution_count": null,
      "metadata": {},
      "outputs": [],
      "source": [
        "train_X.shape"
      ]
    },
    {
      "cell_type": "code",
      "execution_count": null,
      "metadata": {},
      "outputs": [],
      "source": [
        "train_y.shape"
      ]
    },
    {
      "attachments": {},
      "cell_type": "markdown",
      "metadata": {},
      "source": [
        "### train_x has all the features except temperature and train_y has the corresponding temperature for those features. In supervised machine learning we first feed the model with input and associated output and then we check with a new input."
      ]
    },
    {
      "cell_type": "code",
      "execution_count": null,
      "metadata": {},
      "outputs": [],
      "source": [
        "train_y.head()"
      ]
    },
    {
      "attachments": {},
      "cell_type": "markdown",
      "metadata": {},
      "source": [
        "# Some more Visualization"
      ]
    },
    {
      "cell_type": "code",
      "execution_count": null,
      "metadata": {},
      "outputs": [],
      "source": [
        "# This code uses the scatter plot function from the matplotlib library to create a scatter plot\n",
        "# of the minimum temperature (x-axis) versus the temperature (y-axis) using the weth dataset.\n",
        "plt.scatter(weth.mintempC, weth.tempC)\n",
        "\n",
        "# This code adds an x-axis label to the plot.\n",
        "plt.xlabel(\"Minimum Temperature\")\n",
        "\n",
        "# This code adds a y-axis label to the plot.\n",
        "plt.ylabel(\"Temperature\")\n",
        "\n",
        "# This code displays the plot.\n",
        "plt.show()"
      ]
    },
    {
      "cell_type": "code",
      "execution_count": null,
      "metadata": {},
      "outputs": [],
      "source": [
        "# This code uses the scatter plot function from the matplotlib library to create a scatter plot\n",
        "# of the Heat Index (x-axis) versus the temperature (y-axis) using the weth dataset.\n",
        "plt.scatter(weth.HeatIndexC, weth.tempC)\n",
        "\n",
        "# This code adds an x-axis label to the plot.\n",
        "plt.xlabel(\"Heat Index\")\n",
        "\n",
        "# This code adds a y-axis label to the plot.\n",
        "plt.ylabel(\"Temperature\")\n",
        "\n",
        "# This code displays the plot.\n",
        "plt.show()"
      ]
    },
    {
      "cell_type": "code",
      "execution_count": null,
      "metadata": {},
      "outputs": [],
      "source": [
        "# This code uses the scatter plot function from the matplotlib library to create a scatter plot\n",
        "# of the pressure (x-axis) versus the temperature (y-axis) using the weth dataset.\n",
        "plt.scatter(weth.pressure, weth.tempC)\n",
        "\n",
        "# This code adds an x-axis label to the plot.\n",
        "plt.xlabel(\"Pressure\")\n",
        "\n",
        "# This code adds a y-axis label to the plot.\n",
        "plt.ylabel(\"Temperature\")\n",
        "\n",
        "# This code displays the plot.\n",
        "plt.show()"
      ]
    },
    {
      "cell_type": "code",
      "execution_count": null,
      "metadata": {},
      "outputs": [],
      "source": [
        "# This code uses the scatter plot function from the matplotlib library to create a scatter plot\n",
        "# of the minimum temperature (x-axis) versus the temperature (y-axis) using the weth dataset.\n",
        "plt.scatter(weth.mintempC, weth.tempC)\n",
        "\n",
        "# This code adds an x-axis label to the plot.\n",
        "plt.xlabel(\"Minimum Temperature\")\n",
        "\n",
        "# This code adds a y-axis label to the plot.\n",
        "plt.ylabel(\"Temperature\")\n",
        "\n",
        "# This code displays the plot.\n",
        "plt.show()"
      ]
    },
    {
      "attachments": {},
      "cell_type": "markdown",
      "metadata": {},
      "source": [
        "# Multiple Linear Regression"
      ]
    },
    {
      "cell_type": "code",
      "execution_count": null,
      "metadata": {},
      "outputs": [],
      "source": [
        "# This code creates a new instance of a LinearRegression model using scikit-learn's LinearRegression class.\n",
        "model = LinearRegression()\n",
        "\n",
        "# This code trains the model using the fit() method, which takes the training input data train_X\n",
        "# and the corresponding training output data train_y as arguments.\n",
        "# The model then learns the relationship between the input and output data and is ready to make predictions.\n",
        "model.fit(train_X, train_y)"
      ]
    },
    {
      "cell_type": "code",
      "execution_count": null,
      "metadata": {},
      "outputs": [],
      "source": [
        "# This code uses the predict() method of the trained model to make predictions on the test_X dataset.\n",
        "# The model takes the test_X input data as input and generates predicted values for the output variable.\n",
        "prediction = model.predict(test_X)"
      ]
    },
    {
      "cell_type": "code",
      "execution_count": null,
      "metadata": {},
      "outputs": [],
      "source": [
        "#calculating error\n",
        "np.mean(np.absolute(prediction-test_y))"
      ]
    },
    {
      "cell_type": "code",
      "execution_count": null,
      "metadata": {},
      "outputs": [],
      "source": [
        "print('Variance score: %.2f' % model.score(test_X, test_y))"
      ]
    },
    {
      "cell_type": "code",
      "execution_count": null,
      "metadata": {},
      "outputs": [],
      "source": [
        "for i in range(len(prediction)):\n",
        "  prediction[i]=round(prediction[i],2)\n",
        "linear_df = pd.DataFrame({'Actual':test_y,'Prediction':prediction,'diff':(test_y-prediction)})\n",
        "linear_df"
      ]
    },
    {
      "cell_type": "code",
      "execution_count": null,
      "metadata": {},
      "outputs": [],
      "source": [
        "# linear_df[['Actual', 'Prediction']].plot(figsize=(25,20))\n",
        "linear_df['2019':'2020'].resample('D').fillna(method='pad')[['Actual', 'Prediction']].plot(figsize=(25,20))\n",
        "plt.ylabel('Predicted tempC')\n",
        "plt.suptitle('Comparision of Predicted temp by Linear regression and Actual Temp', fontsize=20)"
      ]
    },
    {
      "cell_type": "markdown",
      "metadata": {},
      "source": [
        "# Decision Tree Regression "
      ]
    },
    {
      "cell_type": "code",
      "execution_count": null,
      "metadata": {},
      "outputs": [],
      "source": [
        "# This code imports the DecisionTreeRegressor class from the sklearn.tree module.\n",
        "from sklearn.tree import DecisionTreeRegressor\n",
        "\n",
        "# This code creates a new instance of the DecisionTreeRegressor model using the DecisionTreeRegressor class.\n",
        "# The random_state parameter sets the random seed for reproducibility.\n",
        "regressor = DecisionTreeRegressor(random_state=0)\n",
        "\n",
        "# This code trains the model using the fit() method, which takes the training input data train_X\n",
        "# and the corresponding training output data train_y as arguments.\n",
        "# The model then learns the relationship between the input and output data and is ready to make predictions.\n",
        "regressor.fit(train_X, train_y)\n"
      ]
    },
    {
      "cell_type": "code",
      "execution_count": null,
      "metadata": {},
      "outputs": [],
      "source": [
        "# This code uses the predict() method of the DecisionTreeRegressor model to make predictions on the test_X dataset.\n",
        "# The model takes the test_X input data as input and generates predicted values for the output variable.\n",
        "prediction2 = regressor.predict(test_X)\n",
        "\n",
        "# This code calculates the mean absolute error (MAE) between the predicted values and the actual values for the test set.\n",
        "# The absolute() function is used to calculate the absolute difference between the predicted and actual values,\n",
        "# and the mean() function is used to calculate the mean of these absolute differences.\n",
        "# The np.mean() function is used to calculate the overall mean of the absolute differences.\n",
        "mae = np.mean(np.absolute(prediction2 - test_y))"
      ]
    },
    {
      "cell_type": "code",
      "execution_count": null,
      "metadata": {},
      "outputs": [],
      "source": [
        "print('Variance score: %.2f' % regressor.score(test_X, test_y))"
      ]
    },
    {
      "cell_type": "code",
      "execution_count": null,
      "metadata": {},
      "outputs": [],
      "source": [
        "for i in range(len(prediction2)):\n",
        "  prediction2[i]=round(prediction2[i],2)\n",
        "decisionTree_df = pd.DataFrame({'Actual':test_y,'Prediction':prediction2,'diff':(test_y-prediction2)})\n",
        "decisionTree_df"
      ]
    },
    {
      "cell_type": "code",
      "execution_count": null,
      "metadata": {},
      "outputs": [],
      "source": [
        "decisionTree_df['2019':'2020'].resample('D').fillna(method='pad')[['Actual', 'Prediction']].plot(figsize=(25,20))\n",
        "plt.ylabel('Predicted tempC')\n",
        "plt.suptitle('Comparision of Predicted temp by Decision Tree Regression and Actual temp', fontsize=20)"
      ]
    },
    {
      "cell_type": "markdown",
      "metadata": {},
      "source": [
        "# Random Forest Regression"
      ]
    },
    {
      "cell_type": "code",
      "execution_count": null,
      "metadata": {},
      "outputs": [],
      "source": [
        "# This code imports the RandomForestRegressor class from the sklearn.ensemble module.\n",
        "from sklearn.ensemble import RandomForestRegressor\n",
        "\n",
        "# This code creates a new instance of the RandomForestRegressor model using the RandomForestRegressor class.\n",
        "# The max_depth parameter sets the maximum depth of each decision tree in the forest to 90.\n",
        "# The random_state parameter sets the random seed for reproducibility.\n",
        "# The n_estimators parameter sets the number of decision trees in the forest to 100.\n",
        "regr = RandomForestRegressor(max_depth=90, random_state=0, n_estimators=100)\n",
        "\n",
        "# This code trains the model using the fit() method, which takes the training input data train_X\n",
        "# and the corresponding training output data train_y as arguments.\n",
        "# The model then learns the relationship between the input and output data and is ready to make predictions.\n",
        "regr.fit(train_X, train_y)"
      ]
    },
    {
      "cell_type": "code",
      "execution_count": null,
      "metadata": {},
      "outputs": [],
      "source": [
        "# This code uses the predict() method of the RandomForestRegressor model to make predictions on the test_X dataset.\n",
        "# The model takes the test_X input data as input and generates predicted values for the output variable.\n",
        "prediction3 = regr.predict(test_X)\n",
        "\n",
        "# This code calculates the mean absolute error (MAE) between the predicted values and the actual values for the test set.\n",
        "# The absolute() function is used to calculate the absolute difference between the predicted and actual values,\n",
        "# and the mean() function is used to calculate the mean of these absolute differences.\n",
        "# The np.mean() function is used to calculate the overall mean of the absolute differences.\n",
        "mae = np.mean(np.absolute(prediction3 - test_y))"
      ]
    },
    {
      "cell_type": "code",
      "execution_count": null,
      "metadata": {},
      "outputs": [],
      "source": [
        "print('Variance score: %.2f' % regr.score(test_X, test_y))"
      ]
    },
    {
      "cell_type": "code",
      "execution_count": null,
      "metadata": {},
      "outputs": [],
      "source": [
        "for i in range(len(prediction3)):\n",
        "  prediction3[i]=round(prediction3[i],2)\n",
        "randomForest_df = pd.DataFrame({'Actual':test_y,'Prediction':prediction3,'diff':(test_y-prediction3)})\n",
        "randomForest_df"
      ]
    },
    {
      "cell_type": "code",
      "execution_count": null,
      "metadata": {},
      "outputs": [],
      "source": [
        "randomForest_df['2019':'2020'].resample('D').fillna(method='pad')[['Actual', 'Prediction']].plot(figsize=(25,20))\n",
        "plt.ylabel('Predicted tempC')\n",
        "plt.suptitle('Comparision of Predicted temp by Random Forest Regression and Actual temp', fontsize=20)"
      ]
    },
    {
      "attachments": {},
      "cell_type": "markdown",
      "metadata": {},
      "source": [
        "# Comparision of the difference between Actual and Predicted tempC values predicted by Linear regression, Random Forest Regression and Decision Tree Regression"
      ]
    },
    {
      "cell_type": "code",
      "execution_count": null,
      "metadata": {},
      "outputs": [],
      "source": [
        "import matplotlib.pyplot as plt\n",
        "\n",
        "# plot all three DataFrames in one plot\n",
        "plt.figure(figsize=(25,20))\n",
        "plt.plot(linear_df['2019':'2020'].resample('D').fillna(method='pad')['diff'], label='Linear Regression')\n",
        "plt.plot(randomForest_df['2019':'2020'].resample('D').fillna(method='pad')['diff'], label='Random Forest')\n",
        "plt.plot(decisionTree_df['2019':'2020'].resample('D').fillna(method='pad')['diff'], label='Decision Tree')\n",
        "\n",
        "# set the title of the plot\n",
        "plt.title('Comparision between difference of Actual and predicted temp values of Linear Regression, Random Forest regression and Decision Tree regression')\n",
        "\n",
        "# set the x-axis label\n",
        "plt.xlabel('Date')\n",
        "\n",
        "# set the y-axis label\n",
        "plt.ylabel('Difference')\n",
        "\n",
        "# show the legend\n",
        "plt.legend()\n",
        "\n",
        "# show the plot\n",
        "plt.show()"
      ]
    },
    {
      "cell_type": "code",
      "execution_count": null,
      "metadata": {},
      "outputs": [],
      "source": [
        "# This code imports the r2_score function from the sklearn.metrics module.\n",
        "# The r2_score function is used to calculate the R-squared (coefficient of determination) value, which measures the proportion of variance in the output variable that can be explained by the input variables.\n",
        "from sklearn.metrics import r2_score"
      ]
    },
    {
      "cell_type": "markdown",
      "metadata": {},
      "source": [
        "# Calculating R2-score for Multiple Linear Regression"
      ]
    },
    {
      "cell_type": "code",
      "execution_count": null,
      "metadata": {},
      "outputs": [],
      "source": [
        "print(\"Mean absolute error: %.2f\" % np.mean(np.absolute(prediction - test_y)))\n",
        "print(\"Residual sum of squares (MSE): %.2f\" % np.mean((prediction - test_y) ** 2))\n",
        "print(\"R2-score: %.2f\" % r2_score(test_y,prediction ) )"
      ]
    },
    {
      "cell_type": "markdown",
      "metadata": {},
      "source": [
        "# Calculating R2-score for Decision Tree Regression"
      ]
    },
    {
      "cell_type": "code",
      "execution_count": null,
      "metadata": {},
      "outputs": [],
      "source": [
        "print(\"Mean absolute error: %.2f\" % np.mean(np.absolute(prediction2 - test_y)))\n",
        "print(\"Residual sum of squares (MSE): %.2f\" % np.mean((prediction2 - test_y) ** 2))\n",
        "print(\"R2-score: %.2f\" % r2_score(test_y,prediction2 ) )"
      ]
    },
    {
      "cell_type": "markdown",
      "metadata": {},
      "source": [
        "# Calculating R2-score for Random Forest Regression"
      ]
    },
    {
      "cell_type": "code",
      "execution_count": null,
      "metadata": {},
      "outputs": [],
      "source": [
        "from sklearn.metrics import r2_score\n",
        "\n",
        "print(\"Mean absolute error: %.2f\" % np.mean(np.absolute(prediction3 - test_y)))\n",
        "print(\"Residual sum of squares (MSE): %.2f\" % np.mean((prediction3 - test_y) ** 2))\n",
        "print(\"R2-score: %.2f\" % r2_score(test_y,prediction3 ) )"
      ]
    },
    {
      "cell_type": "markdown",
      "metadata": {},
      "source": [
        "# Thank You"
      ]
    }
  ],
  "metadata": {
    "colab": {
      "collapsed_sections": [],
      "name": "forecast.ipynb",
      "provenance": []
    },
    "kernelspec": {
      "display_name": "Python 3",
      "language": "python",
      "name": "python3"
    },
    "language_info": {
      "codemirror_mode": {
        "name": "ipython",
        "version": 3
      },
      "file_extension": ".py",
      "mimetype": "text/x-python",
      "name": "python",
      "nbconvert_exporter": "python",
      "pygments_lexer": "ipython3",
      "version": "3.11.3"
    },
    "vscode": {
      "interpreter": {
        "hash": "11938c6bc6919ae2720b4d5011047913343b08a43b18698fd82dedb0d4417594"
      }
    }
  },
  "nbformat": 4,
  "nbformat_minor": 0
}
